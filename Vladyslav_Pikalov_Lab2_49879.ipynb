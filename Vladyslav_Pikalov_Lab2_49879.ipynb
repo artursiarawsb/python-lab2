{
 "cells": [
  {
   "cell_type": "markdown",
   "id": "a29fc0a6",
   "metadata": {},
   "source": [
    "App for scrapping data of movies budget and gross from the website https://www.the-numbers.com/movie/budgets/all"
   ]
  },
  {
   "cell_type": "code",
   "execution_count": 2,
   "id": "949728c0",
   "metadata": {
    "scrolled": true
   },
   "outputs": [
    {
     "name": "stdout",
     "output_type": "stream",
     "text": [
      "\u001b[33mDEPRECATION: Configuring installation scheme with distutils config files is deprecated and will no longer work in the near future. If you are using a Homebrew or Linuxbrew Python, please see discussion at https://github.com/Homebrew/homebrew-core/issues/76621\u001b[0m\u001b[33m\n",
      "\u001b[0mCollecting requests\n",
      "  Using cached requests-2.28.0-py3-none-any.whl (62 kB)\n",
      "Collecting idna<4,>=2.5\n",
      "  Using cached idna-3.3-py3-none-any.whl (61 kB)\n",
      "Collecting charset-normalizer~=2.0.0\n",
      "  Using cached charset_normalizer-2.0.12-py3-none-any.whl (39 kB)\n",
      "Collecting urllib3<1.27,>=1.21.1\n",
      "  Using cached urllib3-1.26.9-py2.py3-none-any.whl (138 kB)\n",
      "Collecting certifi>=2017.4.17\n",
      "  Using cached certifi-2022.5.18.1-py3-none-any.whl (155 kB)\n",
      "Installing collected packages: urllib3, idna, charset-normalizer, certifi, requests\n",
      "\u001b[33m  DEPRECATION: Configuring installation scheme with distutils config files is deprecated and will no longer work in the near future. If you are using a Homebrew or Linuxbrew Python, please see discussion at https://github.com/Homebrew/homebrew-core/issues/76621\u001b[0m\u001b[33m\n",
      "\u001b[0m\u001b[33m  DEPRECATION: Configuring installation scheme with distutils config files is deprecated and will no longer work in the near future. If you are using a Homebrew or Linuxbrew Python, please see discussion at https://github.com/Homebrew/homebrew-core/issues/76621\u001b[0m\u001b[33m\n",
      "\u001b[0m\u001b[33m  DEPRECATION: Configuring installation scheme with distutils config files is deprecated and will no longer work in the near future. If you are using a Homebrew or Linuxbrew Python, please see discussion at https://github.com/Homebrew/homebrew-core/issues/76621\u001b[0m\u001b[33m\n",
      "\u001b[0m\u001b[33m  DEPRECATION: Configuring installation scheme with distutils config files is deprecated and will no longer work in the near future. If you are using a Homebrew or Linuxbrew Python, please see discussion at https://github.com/Homebrew/homebrew-core/issues/76621\u001b[0m\u001b[33m\n",
      "\u001b[0m\u001b[33m  DEPRECATION: Configuring installation scheme with distutils config files is deprecated and will no longer work in the near future. If you are using a Homebrew or Linuxbrew Python, please see discussion at https://github.com/Homebrew/homebrew-core/issues/76621\u001b[0m\u001b[33m\n",
      "\u001b[0m\u001b[33mDEPRECATION: Configuring installation scheme with distutils config files is deprecated and will no longer work in the near future. If you are using a Homebrew or Linuxbrew Python, please see discussion at https://github.com/Homebrew/homebrew-core/issues/76621\u001b[0m\u001b[33m\n",
      "\u001b[0mSuccessfully installed certifi-2022.5.18.1 charset-normalizer-2.0.12 idna-3.3 requests-2.28.0 urllib3-1.26.9\n",
      "\u001b[33mWARNING: There was an error checking the latest version of pip.\u001b[0m\u001b[33m\n",
      "\u001b[0m\u001b[33mDEPRECATION: Configuring installation scheme with distutils config files is deprecated and will no longer work in the near future. If you are using a Homebrew or Linuxbrew Python, please see discussion at https://github.com/Homebrew/homebrew-core/issues/76621\u001b[0m\u001b[33m\n",
      "\u001b[0m\u001b[31mERROR: Could not find a version that satisfies the requirement beatifulsoup4 (from versions: none)\u001b[0m\u001b[31m\n",
      "\u001b[0m\u001b[31mERROR: No matching distribution found for beatifulsoup4\u001b[0m\u001b[31m\n",
      "\u001b[0m\u001b[33mWARNING: There was an error checking the latest version of pip.\u001b[0m\u001b[33m\n",
      "\u001b[0m\u001b[33mDEPRECATION: Configuring installation scheme with distutils config files is deprecated and will no longer work in the near future. If you are using a Homebrew or Linuxbrew Python, please see discussion at https://github.com/Homebrew/homebrew-core/issues/76621\u001b[0m\u001b[33m\n",
      "\u001b[0mCollecting pandas\n",
      "  Downloading pandas-1.4.2-cp39-cp39-macosx_11_0_arm64.whl (10.1 MB)\n",
      "\u001b[2K     \u001b[90m━━━━━━━━━━━━━━━━━━━━━━━━━━━━━━━━━━━━━━━━\u001b[0m \u001b[32m10.1/10.1 MB\u001b[0m \u001b[31m13.9 MB/s\u001b[0m eta \u001b[36m0:00:00\u001b[0m00:01\u001b[0m0:01\u001b[0m\n",
      "\u001b[?25hRequirement already satisfied: python-dateutil>=2.8.1 in /opt/homebrew/lib/python3.9/site-packages (from pandas) (2.8.2)\n",
      "Collecting pytz>=2020.1\n",
      "  Using cached pytz-2022.1-py2.py3-none-any.whl (503 kB)\n",
      "Collecting numpy>=1.20.0\n",
      "  Downloading numpy-1.22.4-cp39-cp39-macosx_11_0_arm64.whl (12.8 MB)\n",
      "\u001b[2K     \u001b[90m━━━━━━━━━━━━━━━━━━━━━━━━━━━━━━━━━━━━━━━━\u001b[0m \u001b[32m12.8/12.8 MB\u001b[0m \u001b[31m15.1 MB/s\u001b[0m eta \u001b[36m0:00:00\u001b[0m00:01\u001b[0m00:01\u001b[0m\n",
      "\u001b[?25hRequirement already satisfied: six>=1.5 in /opt/homebrew/lib/python3.9/site-packages (from python-dateutil>=2.8.1->pandas) (1.16.0)\n",
      "Installing collected packages: pytz, numpy, pandas\n",
      "\u001b[33m  DEPRECATION: Configuring installation scheme with distutils config files is deprecated and will no longer work in the near future. If you are using a Homebrew or Linuxbrew Python, please see discussion at https://github.com/Homebrew/homebrew-core/issues/76621\u001b[0m\u001b[33m\n",
      "\u001b[0m\u001b[33m  DEPRECATION: Configuring installation scheme with distutils config files is deprecated and will no longer work in the near future. If you are using a Homebrew or Linuxbrew Python, please see discussion at https://github.com/Homebrew/homebrew-core/issues/76621\u001b[0m\u001b[33m\n",
      "\u001b[0m\u001b[33m  DEPRECATION: Configuring installation scheme with distutils config files is deprecated and will no longer work in the near future. If you are using a Homebrew or Linuxbrew Python, please see discussion at https://github.com/Homebrew/homebrew-core/issues/76621\u001b[0m\u001b[33m\n",
      "\u001b[0m\u001b[33mDEPRECATION: Configuring installation scheme with distutils config files is deprecated and will no longer work in the near future. If you are using a Homebrew or Linuxbrew Python, please see discussion at https://github.com/Homebrew/homebrew-core/issues/76621\u001b[0m\u001b[33m\n",
      "\u001b[0mSuccessfully installed numpy-1.22.4 pandas-1.4.2 pytz-2022.1\n",
      "\u001b[33mWARNING: There was an error checking the latest version of pip.\u001b[0m\u001b[33m\n",
      "\u001b[0m"
     ]
    }
   ],
   "source": [
    "!pip3 install requests\n",
    "!pip3 install beatifulsoup4\n",
    "!pip3 install pandas\n",
    "\n",
    "import requests\n",
    "from bs4 import BeautifulSoup\n",
    "import pandas as pd"
   ]
  },
  {
   "cell_type": "code",
   "execution_count": 3,
   "id": "250ab299",
   "metadata": {},
   "outputs": [],
   "source": [
    "# Custom iterator for pages\n",
    "\n",
    "class PageIter:\n",
    "    def __iter__(self):\n",
    "        self.a = 1\n",
    "        return self\n",
    "\n",
    "    def __next__(self):\n",
    "        x = self.a\n",
    "        self.a += 100\n",
    "        return x"
   ]
  },
  {
   "cell_type": "code",
   "execution_count": 4,
   "id": "cb22b59f",
   "metadata": {},
   "outputs": [],
   "source": [
    "# Scraping function\n",
    "\n",
    "def scrape(limit=None):\n",
    "    all_data = {}\n",
    "    for page in iter(PageIter()):\n",
    "        resp = get_per_page(page)\n",
    "        if resp is None or page > limit:\n",
    "            break\n",
    "        all_data.update(resp)\n",
    "    load_to_pandas(all_data)"
   ]
  },
  {
   "cell_type": "code",
   "execution_count": 5,
   "id": "e268f46b",
   "metadata": {},
   "outputs": [],
   "source": [
    "# call to specific page\n",
    "\n",
    "def get_per_page(page=1):\n",
    "    headers = {\n",
    "        'user-agent': 'Mozilla/5.0 (Macintosh; Intel Mac OS X 10_15_7) AppleWebKit/537.36 (KHTML, like Gecko) Chrome/101.0.4951.64 Safari/537.36',\n",
    "        'accept': 'text/html,application/xhtml+xml,application/xml;q=0.9,image/avif,image/webp,image/apng,*/*;q=0.8,application/signed-exchange;v=b3;q=0.9'\n",
    "    }\n",
    "    r = requests.get(f'https://www.the-numbers.com/movie/budgets/all/{page}', headers=headers)\n",
    "    print(r.status_code, 'on', page, 'entries')\n",
    "    if r.status_code != 200:\n",
    "        return None\n",
    "    return search_data(r)"
   ]
  },
  {
   "cell_type": "code",
   "execution_count": 6,
   "id": "f63735bb",
   "metadata": {},
   "outputs": [],
   "source": [
    "# search data on given response\n",
    "\n",
    "def search_data(resp):\n",
    "    soup = BeautifulSoup(resp.content, 'html.parser')\n",
    "    table = soup.find_all('table')\n",
    "    table_data = {}\n",
    "    if table:\n",
    "        for row in table[0].find_all('tr'):\n",
    "            cols = row.find_all('td')\n",
    "            if cols:\n",
    "                table_data[cols[2].text] = {\n",
    "                    'release_date': cols[1].text,\n",
    "                    'production_budget': cols[3].text,\n",
    "                    'domestic_gross': cols[4].text,\n",
    "                    'worldwide_gross': cols[5].text,\n",
    "                }\n",
    "    return table_data"
   ]
  },
  {
   "cell_type": "code",
   "execution_count": 7,
   "id": "859f1a75",
   "metadata": {},
   "outputs": [],
   "source": [
    "# load data to pandas and output\n",
    "\n",
    "def load_to_pandas(data):\n",
    "    df = pd.DataFrame.from_dict(data)\n",
    "    print(df)"
   ]
  },
  {
   "cell_type": "code",
   "execution_count": 8,
   "id": "fe7e2105",
   "metadata": {},
   "outputs": [
    {
     "name": "stdout",
     "output_type": "stream",
     "text": [
      "200 on 1 entries\n",
      "200 on 101 entries\n",
      "200 on 201 entries\n",
      "200 on 301 entries\n",
      "200 on 401 entries\n",
      "200 on 501 entries\n",
      "200 on 601 entries\n",
      "200 on 701 entries\n",
      "200 on 801 entries\n",
      "200 on 901 entries\n",
      "200 on 1001 entries\n",
      "                  Avengers: Endgame  \\\n",
      "release_date           Apr 23, 2019   \n",
      "production_budget      $400,000,000   \n",
      "domestic_gross         $858,373,000   \n",
      "worldwide_gross      $2,797,800,564   \n",
      "\n",
      "                  Pirates of the Caribbean: On Stranger Tides  \\\n",
      "release_date                                     May 20, 2011   \n",
      "production_budget                                $379,000,000   \n",
      "domestic_gross                                   $241,071,802   \n",
      "worldwide_gross                                $1,045,713,802   \n",
      "\n",
      "                  Avengers: Age of Ultron  \\\n",
      "release_date                 Apr 22, 2015   \n",
      "production_budget            $365,000,000   \n",
      "domestic_gross               $459,005,868   \n",
      "worldwide_gross            $1,395,316,979   \n",
      "\n",
      "                  Star Wars Ep. VII: The Force Awakens Avengers: Infinity War  \\\n",
      "release_date                              Dec 16, 2015           Apr 25, 2018   \n",
      "production_budget                         $306,000,000           $300,000,000   \n",
      "domestic_gross                            $936,662,225           $678,815,482   \n",
      "worldwide_gross                         $2,064,615,817         $2,048,359,754   \n",
      "\n",
      "                  Pirates of the Caribbean: At Worldâs End Justice League  \\\n",
      "release_date                                    May 24, 2007   Nov 13, 2017   \n",
      "production_budget                               $300,000,000   $300,000,000   \n",
      "domestic_gross                                  $309,420,425   $229,024,295   \n",
      "worldwide_gross                                 $960,996,492   $655,945,209   \n",
      "\n",
      "                         Spectre Mission: Impossible Dead Reckoning Part One  \\\n",
      "release_date         Oct 6, 2015                                Jul 13, 2023   \n",
      "production_budget   $300,000,000                                $290,000,000   \n",
      "domestic_gross      $200,074,175                                          $0   \n",
      "worldwide_gross     $879,500,760                                          $0   \n",
      "\n",
      "                  Star Wars: The Rise of Skywalker  ...  \\\n",
      "release_date                          Dec 18, 2019  ...   \n",
      "production_budget                     $275,000,000  ...   \n",
      "domestic_gross                        $515,202,542  ...   \n",
      "worldwide_gross                     $1,072,848,487  ...   \n",
      "\n",
      "                  Jack Ryan: Shadow Recruit Under Siege 2: Dark Territory  \\\n",
      "release_date                   Jan 17, 2014                  Jul 14, 1995   \n",
      "production_budget               $60,000,000                   $60,000,000   \n",
      "domestic_gross                  $50,577,412                   $50,024,083   \n",
      "worldwide_gross                $131,377,412                  $104,324,083   \n",
      "\n",
      "                  Miss Congeniality 2: Armed and Fabulous          Vice  \\\n",
      "release_date                                 Mar 24, 2005  Dec 21, 2018   \n",
      "production_budget                             $60,000,000   $60,000,000   \n",
      "domestic_gross                                $48,478,006   $47,836,282   \n",
      "worldwide_gross                              $101,292,343   $70,893,782   \n",
      "\n",
      "                  Alien: Resurrection       Shooter Practical Magic  \\\n",
      "release_date             Nov 26, 1997  Mar 23, 2007    Oct 16, 1998   \n",
      "production_budget         $60,000,000   $60,000,000     $60,000,000   \n",
      "domestic_gross            $47,795,018   $47,003,582     $46,850,558   \n",
      "worldwide_gross          $160,700,000   $95,538,560     $68,336,997   \n",
      "\n",
      "                  Gangster Squad Smurfs: The Lost Village      First Man  \n",
      "release_date         Jan 9, 2013             Mar 24, 2017   Oct 10, 2018  \n",
      "production_budget    $60,000,000              $60,000,000    $60,000,000  \n",
      "domestic_gross       $46,000,903              $45,020,282    $44,936,545  \n",
      "worldwide_gross     $104,100,903             $197,578,586   $105,703,325  \n",
      "\n",
      "[4 rows x 993 columns]\n"
     ]
    }
   ],
   "source": [
    "# function call with entries limit (can be empty)\n",
    "\n",
    "scrape(1000)"
   ]
  },
  {
   "cell_type": "code",
   "execution_count": null,
   "id": "c0a7df82",
   "metadata": {},
   "outputs": [],
   "source": []
  }
 ],
 "metadata": {
  "kernelspec": {
   "display_name": "Python 3 (ipykernel)",
   "language": "python",
   "name": "python3"
  },
  "language_info": {
   "codemirror_mode": {
    "name": "ipython",
    "version": 3
   },
   "file_extension": ".py",
   "mimetype": "text/x-python",
   "name": "python",
   "nbconvert_exporter": "python",
   "pygments_lexer": "ipython3",
   "version": "3.9.13"
  }
 },
 "nbformat": 4,
 "nbformat_minor": 5
}
